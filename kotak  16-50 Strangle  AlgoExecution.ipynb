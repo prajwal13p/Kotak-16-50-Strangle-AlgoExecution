{
 "cells": [
  {
   "attachments": {},
   "cell_type": "markdown",
   "metadata": {},
   "source": [
    "# Imports"
   ]
  },
  {
   "cell_type": "code",
   "execution_count": 1,
   "metadata": {},
   "outputs": [],
   "source": [
    "import ks_api_client\n",
    "from ks_api_client import ks_api\n",
    "import pandas as pd\n",
    "from datetime import datetime, date\n",
    "import time\n",
    "import calendar\n",
    "import requests\n",
    "import pandas as pd\n"
   ]
  },
  {
   "attachments": {},
   "cell_type": "markdown",
   "metadata": {},
   "source": [
    "# Login Data input"
   ]
  },
  {
   "cell_type": "code",
   "execution_count": 2,
   "metadata": {},
   "outputs": [],
   "source": [
    "userId=''  \n",
    "password=''\n",
    "\n",
    "accessToken=''\n",
    "consumerKey=''\n",
    "consumerSecret=''"
   ]
  },
  {
   "attachments": {},
   "cell_type": "markdown",
   "metadata": {},
   "source": [
    "# Access CODE"
   ]
  },
  {
   "cell_type": "code",
   "execution_count": 3,
   "metadata": {},
   "outputs": [],
   "source": [
    "accessCode=\"\" # like 1234 ( 4 digit Access code sent by Kotak securities for Login )"
   ]
  },
  {
   "attachments": {},
   "cell_type": "markdown",
   "metadata": {},
   "source": [
    "# Login "
   ]
  },
  {
   "cell_type": "code",
   "execution_count": 4,
   "metadata": {},
   "outputs": [],
   "source": [
    "client = ks_api.KSTradeApi(access_token = accessToken, userid = userId, consumer_key = consumerKey,ip = \"192.168.1.9\", app_id = \"DefaultApplication\", \\\n",
    "                        host = \"https://ctradeapi.kotaksecurities.com/apim\", consumer_secret = consumerSecret)\n",
    "\n",
    "Login = client.login(password = password)\n",
    "\n",
    "AC = client.session_2fa(access_code = accessCode)"
   ]
  },
  {
   "attachments": {},
   "cell_type": "markdown",
   "metadata": {},
   "source": [
    "# Quote Fentching"
   ]
  },
  {
   "cell_type": "code",
   "execution_count": 5,
   "metadata": {},
   "outputs": [],
   "source": [
    "url = \"https://ctradeapi.kotaksecurities.com/apim/scripmaster/1.1/filename\"\n",
    "headers = {'accept':'application/json','consumerKey':f'{consumerKey}','Authorization':f'Bearer {accessToken}'}\n",
    "res = requests.get(url,headers=headers).json()"
   ]
  },
  {
   "attachments": {},
   "cell_type": "markdown",
   "metadata": {},
   "source": [
    "# Gobal Order Settings\n"
   ]
  },
  {
   "cell_type": "code",
   "execution_count": 15,
   "metadata": {},
   "outputs": [],
   "source": [
    "# order Global SEttings\n",
    "instrument_name = \"BANKNIFTY\"\n",
    "expiry = \"22DEC22\"\n",
    "gap = 100\n",
    "order_type = \"MIS\"\n",
    "lots  = 17\n",
    "timer = 7 # code start before these seconds for 3 OTM Strike Execution\n",
    "depth = 3 # OTM Depth you want to trade"
   ]
  },
  {
   "attachments": {},
   "cell_type": "markdown",
   "metadata": {},
   "source": [
    "# Banknifty Token Fetching"
   ]
  },
  {
   "cell_type": "code",
   "execution_count": null,
   "metadata": {},
   "outputs": [],
   "source": [
    "# Banknifty Token Fenching \n",
    "cashurl = res['Success']['cash']\n",
    "cashdata = pd.read_csv(cashurl,sep=\"|\")\n",
    "cashdata\n",
    "Banknifty_token = int(cashdata[(cashdata.instrumentName==\"NIFTY BANK\")][\"instrumentToken\"])\n",
    "print(f\"BANKNIFTY Token :------- {Banknifty_token}\")\n"
   ]
  },
  {
   "attachments": {},
   "cell_type": "markdown",
   "metadata": {},
   "source": [
    "# 9:20 Hedge Position"
   ]
  },
  {
   "attachments": {},
   "cell_type": "markdown",
   "metadata": {},
   "source": [
    "### Hedge strike INFO"
   ]
  },
  {
   "cell_type": "code",
   "execution_count": null,
   "metadata": {},
   "outputs": [],
   "source": [
    "# Hedge Position Info\n",
    "price = int(float(client.quote(instrument_token = Banknifty_token, quote_type = \"LTP\")[\"success\"][0]['lastPrice']))\n",
    "atm = int(round(price/gap,0)*gap)\n",
    "ce_Hegde = int(input(\"CE hedge positions : \"))\n",
    "pe_Hedge = int(input(\"PE hedge positions : \"))\n",
    "print(f\"\"\"Banknifty price :------- {price}\n",
    "Banknifty ATM Stike :--- {atm}\n",
    "{int((ce_Hegde - atm)/gap)} OTM CE Srike :------- {ce_Hegde}\n",
    "{int((atm - pe_Hedge)/gap)} OTM PE Strike:------- {pe_Hedge}\n",
    "\"\"\")\n",
    "\n",
    "# Hedge Strike Token Fetching\n",
    "fnourl = res['Success']['fno']\n",
    "fnodata = pd.read_csv(fnourl,sep=\"|\")\n",
    "CE_token_Hedge = int(fnodata[(fnodata.instrumentType=='OI') & (fnodata.instrumentName==instrument_name)&(fnodata.expiry==expiry)&(fnodata.strike==ce_Hegde)&(fnodata.optionType==\"CE\")]['instrumentToken'])\n",
    "PE_token_Hedge = int(fnodata[(fnodata.instrumentType=='OI') & (fnodata.instrumentName==instrument_name)&(fnodata.expiry==expiry)&(fnodata.strike==pe_Hedge)&(fnodata.optionType==\"PE\")]['instrumentToken'])\n",
    "CE_Hedge_price = round(float(client.quote(instrument_token = CE_token_Hedge, quote_type = \"LTP\")[\"success\"][0]['lastPrice']),2)\n",
    "PE_Hedge_price = round(float(client.quote(instrument_token = PE_token_Hedge, quote_type = \"LTP\")[\"success\"][0]['lastPrice']),2)\n",
    "print(f\"\"\"CE TOKEN :--{CE_token_Hedge}\n",
    "PE TOKEN :--{PE_token_Hedge}\n",
    "Expiry :----{expiry}\n",
    "{instrument_name} {ce_Hegde} CE Price :  {CE_Hedge_price}\n",
    "{instrument_name} {pe_Hedge} PE Price :  {PE_Hedge_price}\"\"\")\n"
   ]
  },
  {
   "attachments": {},
   "cell_type": "markdown",
   "metadata": {},
   "source": [
    "### Hedge Positions Placing\n"
   ]
  },
  {
   "cell_type": "code",
   "execution_count": 10,
   "metadata": {},
   "outputs": [],
   "source": [
    "# Hedge Positions Placing \n",
    "CE_3OTM = client.place_order(order_type = order_type, instrument_token = CE_token_Hedge, transaction_type = \"BUY\",\\\n",
    "                   quantity = 25*lots, price = 0, disclosed_quantity = 0, trigger_price = 0,\\\n",
    "                   tag = \"string\", validity = \"GFD\", variety = \"REGULAR\")\n",
    "PE_3OTM = client.place_order(order_type = order_type, instrument_token = PE_token_Hedge, transaction_type = \"BUY\",\\\n",
    "                   quantity = 25*lots, price = 0, disclosed_quantity = 0, trigger_price = 0,\\\n",
    "                   tag = \"string\", validity = \"GFD\", variety = \"REGULAR\")\n"
   ]
  },
  {
   "attachments": {},
   "cell_type": "markdown",
   "metadata": {},
   "source": [
    "# 9:31 Order Execution"
   ]
  },
  {
   "attachments": {},
   "cell_type": "markdown",
   "metadata": {},
   "source": [
    "###  Order Execution"
   ]
  },
  {
   "cell_type": "code",
   "execution_count": null,
   "metadata": {},
   "outputs": [],
   "source": [
    "# Execution Time \n",
    "otm_3_time = '11:58:00'     # Time at which Strategy has to Deployed on that day\n",
    "\n",
    "## Second and Minuntes Correction for initiation of Code \n",
    "sec = int(otm_3_time[6:8])-timer\n",
    "min = int(otm_3_time[3:5])\n",
    "if sec < 0 :\n",
    "    min = min-1\n",
    "    sec = 60 - timer\n",
    "else :\n",
    "    min = min\n",
    "    sec = sec\n",
    "\n",
    "print(f\"\"\"Code is Going to Start At :  {otm_3_time[0:2]}:{min}:{sec} \n",
    "\n",
    "Trades will Execute At :     {otm_3_time} \n",
    "\n",
    "\"\"\")\n",
    " # Time Trigger for start of Code (since this takes some 3 to 4 seconds to fetch and calculate)\n",
    "while True :\n",
    "    if datetime.now().strftime(\"%H\") == otm_3_time[0:2] and int(datetime.now().strftime(\"%M\")) == min and int(datetime.now().strftime(\"%S\")) == sec:\n",
    "        print(\"\"\"\n",
    "        Go trade 16-50 strangle\n",
    "        \"\"\")\n",
    "        break\n",
    "\n",
    "print(f\"\"\"Strike Calculation Started at  :{time.strftime(\"%H:%M:%S\", time.localtime(time.time()))}\n",
    "\"\"\")\n",
    "# Strike Calcualtion \n",
    "try:\n",
    "    price = int(float(client.quote(instrument_token = Banknifty_token, quote_type = \"LTP\")[\"success\"][0]['lastPrice']))\n",
    "    atm = int(round(price/100,0)*100)\n",
    "    ce = atm + 100*depth\n",
    "    pe = atm - 100*depth\n",
    "except Exception as e : \n",
    "    print(f\"\"\" error : {e} \"\"\")\n",
    "\n",
    "print(f\"\"\"Banknifty price :-------{price}\n",
    "Banknifty ATM Stike :---{atm}\n",
    "3 OTM CE Srike :--------{ce}\n",
    "3 OTM PE Strike:--------{pe}\n",
    "\n",
    "\"\"\")\n",
    "\n",
    "\n",
    "print(f\"\"\"Strike Token Fetced at : {time.strftime(\"%H:%M:%S\", time.localtime(time.time()))}\n",
    "\n",
    "\"\"\")\n",
    "# Strike Token Fentching\n",
    "try:\n",
    "    fnourl = res['Success']['fno']\n",
    "    fnodata = pd.read_csv(fnourl,sep=\"|\")\n",
    "    instrument_name = \"BANKNIFTY\"\n",
    "    expiry = \"22DEC22\"\n",
    "    CE_token = int(fnodata[(fnodata.instrumentType=='OI') & (fnodata.instrumentName==instrument_name)&(fnodata.expiry==expiry)&(fnodata.strike==ce)&(fnodata.optionType==\"CE\")]['instrumentToken'])\n",
    "    PE_token = int(fnodata[(fnodata.instrumentType=='OI') & (fnodata.instrumentName==instrument_name)&(fnodata.expiry==expiry)&(fnodata.strike==pe)&(fnodata.optionType==\"PE\")]['instrumentToken'])\n",
    "    CE_Price = round(float(client.quote(instrument_token = CE_token, quote_type = \"LTP\")[\"success\"][0]['lastPrice']),2)\n",
    "    PE_Price = round(float(client.quote(instrument_token = PE_token, quote_type = \"LTP\")[\"success\"][0]['lastPrice']),2)\n",
    "except Exception as e : \n",
    "    print(f\"\"\" error : {e} \"\"\")\n",
    "print(f\"\"\"CE TOKEN :-- {CE_token}\n",
    "PE TOKEN :-- {PE_token}\n",
    "Expiry :---- {expiry}\n",
    "{instrument_name} {ce} CE Price :  {CE_Price}\n",
    "{instrument_name} {pe} PE Price :  {PE_Price}\n",
    "\n",
    "\"\"\")\n",
    "\n",
    "print(f\"\"\"Order Execution Started at : {time.strftime(\"%H:%M:%S\", time.localtime(time.time()))}\n",
    "\n",
    "\"\"\")\n",
    "# Order execution at Defined TIME \n",
    "try :\n",
    "    while True :\n",
    "        if datetime.now().strftime(\"%H\") == otm_3_time[0:2] and datetime.now().strftime(\"%M\") == otm_3_time[3:5] and int(datetime.now().strftime(\"%S\")) == int(otm_3_time[6:8])+5:\n",
    "            CE_3OTM = client.place_order(order_type = order_type, instrument_token = CE_token, transaction_type = \"SELL\",\\\n",
    "                        quantity = 25*lots, price = 0, disclosed_quantity = 0, trigger_price = 0,\\\n",
    "                        tag = \"string\", validity = \"GFD\", variety = \"REGULAR\")\n",
    "            PE_3OTM = client.place_order(order_type = order_type, instrument_token = PE_token, transaction_type = \"SELL\",\\\n",
    "                        quantity = 25*lots, price = 0, disclosed_quantity = 0, trigger_price = 0,\\\n",
    "                        tag = \"string\", validity = \"GFD\", variety = \"REGULAR\")\n",
    "            print(\"\"\"\n",
    "            \n",
    "--------------------------Trades Are Executed-----------------------------------\n",
    "            \n",
    "            \"\"\")\n",
    "            break\n",
    "except Exception as e : \n",
    "    print(f\"\"\" error : {e} \"\"\")\n",
    "\n",
    "print(f\"\"\"Order Execution Completed at : {time.strftime(\"%H:%M:%S\", time.localtime(time.time()))}\"\"\")\n"
   ]
  },
  {
   "attachments": {},
   "cell_type": "markdown",
   "metadata": {},
   "source": [
    "### StopLoss "
   ]
  },
  {
   "cell_type": "code",
   "execution_count": null,
   "metadata": {},
   "outputs": [],
   "source": [
    "# fetch position data from Trading Account\n",
    "c = client.positions(position_type = \"TODAYS\")['Success']\n",
    "# StopLoss Placment\n",
    "try:\n",
    "    for i in c :\n",
    "        for j in i :\n",
    "            if j == 'strikePrice' :\n",
    "                if int(i[j]) == ce:\n",
    "                    slce = round(round((float(i['sellTrdAvg'])*1.16+0.1)/0.05,0)*0.05,2)\n",
    "                    trigce = round(slce-0.1,2)    \n",
    "                    print(f\"\"\"{ce} CE Trigger  : {trigce}\n",
    "{ce} CE StopLoss : {slce}\n",
    "\"\"\")\n",
    "                    CE_3OTM = client.place_order(order_type = order_type, instrument_token = CE_token, transaction_type = \"BUY\",\\\n",
    "                            quantity = 25*lots, price = slce, disclosed_quantity = 0, trigger_price = trigce,\\\n",
    "                            tag = \"string\", validity = \"GFD\", variety = \"REGULAR\")\n",
    "                    \n",
    "                elif int(i[j]) == pe:\n",
    "                    slpe = round(round((float(i['sellTrdAvg'])*1.16+0.1)/0.05,0)*0.05,2)\n",
    "                    trigpe = round(slpe-0.1,2)   \n",
    "                    print(f\"\"\"{pe} CE Trigger  : {trigpe}\n",
    "{pe} CE StopLoss : {slpe}\"\"\")\n",
    "                    CE_3OTM = client.place_order(order_type = order_type, instrument_token = PE_token, transaction_type = \"BUY\",\\\n",
    "                            quantity = 25*lots, price = slpe, disclosed_quantity = 0, trigger_price = trigpe,\\\n",
    "                            tag = \"string\", validity = \"GFD\", variety = \"REGULAR\")\n",
    "\n",
    "    print(\"------------------------------------StopLoss Exected----------------------------------------------------------\")\n",
    "except Exception as e: \n",
    "    print(f\"\"\" error : {e} \"\"\")\n",
    "\n",
    "# StopLoss Targets SUMMARY\n",
    "print(\"\"\"--------------------: StopLoss Targets SUMMARY :--------------------\"\"\")\n",
    "try:\n",
    "    for i in c :\n",
    "        for j in i :\n",
    "            if j == 'strikePrice' :\n",
    "                if int(i[j]) == ce:\n",
    "                    slce = round(round((i['sellTrdAvg']*1.16)/0.05,0)*0.05,2)\n",
    "                    trigce = round(slce-0.1,2)\n",
    "                    print(f\"\"\"Strike : {i['instrumentName']}\n",
    "    Sell Price : {i['sellTrdAvg']}\n",
    "    Trigger SL..! : {round(i['sellTrdAvg']*1.16,1)}\n",
    "    Stoploss....! : {round(i['sellTrdAvg']*1.16+0.15,1)}\n",
    "    Target 35 : {i['sellTrdAvg']*0.65}\n",
    "    Target 40 : {i['sellTrdAvg']*0.6}\n",
    "    Target 50 : {i['sellTrdAvg']*0.495}\n",
    "                    \"\"\")\n",
    "                elif int(i[j]) == pe:  \n",
    "                        print(f\"\"\"Strike : {i['instrumentName']}\n",
    "    Sell Price : {i['sellTrdAvg']}\n",
    "    Trigger SL..! : {round(i['sellTrdAvg']*1.16,1)}\n",
    "    Stoploss....! : {round(i['sellTrdAvg']*1.16+0.15,1)}\n",
    "    Target 35 : {i['sellTrdAvg']*0.65}\n",
    "    Target 40 : {i['sellTrdAvg']*0.6}\n",
    "    Target 50 : {i['sellTrdAvg']*0.495}\n",
    "                    \"\"\")\n",
    "except Exception as e:\n",
    "    print(f\"\"\" error : {e} \"\"\")"
   ]
  },
  {
   "cell_type": "code",
   "execution_count": null,
   "metadata": {},
   "outputs": [],
   "source": []
  }
 ],
 "metadata": {
  "kernelspec": {
   "display_name": "Python 3",
   "language": "python",
   "name": "python3"
  },
  "language_info": {
   "codemirror_mode": {
    "name": "ipython",
    "version": 3
   },
   "file_extension": ".py",
   "mimetype": "text/x-python",
   "name": "python",
   "nbconvert_exporter": "python",
   "pygments_lexer": "ipython3",
   "version": "3.9.12 (main, Apr  4 2022, 05:22:27) [MSC v.1916 64 bit (AMD64)]"
  },
  "orig_nbformat": 4,
  "vscode": {
   "interpreter": {
    "hash": "41720efa99c50ecab60ad0cd935fc5514610d7d54b05ae36c29aa89ce0a32759"
   }
  }
 },
 "nbformat": 4,
 "nbformat_minor": 2
}
